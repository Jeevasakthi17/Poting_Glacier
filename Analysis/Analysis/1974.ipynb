{
 "cells": [
  {
   "cell_type": "code",
   "execution_count": 1,
   "id": "f272964a",
   "metadata": {},
   "outputs": [],
   "source": [
    "import numpy as np\n",
    "import pandas as pd\n",
    "\n",
    "# for plotting\n",
    "import matplotlib.pyplot as plt\n",
    "%matplotlib inline\n",
    "import seaborn as sns\n",
    "\n",
    "\n",
    "import warnings\n",
    "warnings.filterwarnings('ignore')"
   ]
  },
  {
   "cell_type": "code",
   "execution_count": 4,
   "id": "063cc458",
   "metadata": {},
   "outputs": [],
   "source": [
    "df = pd.read_excel(\"1974[1].xlsx\")"
   ]
  },
  {
   "cell_type": "code",
   "execution_count": 5,
   "id": "5e2c81a6",
   "metadata": {},
   "outputs": [
    {
     "data": {
      "text/html": [
       "<div>\n",
       "<style scoped>\n",
       "    .dataframe tbody tr th:only-of-type {\n",
       "        vertical-align: middle;\n",
       "    }\n",
       "\n",
       "    .dataframe tbody tr th {\n",
       "        vertical-align: top;\n",
       "    }\n",
       "\n",
       "    .dataframe thead th {\n",
       "        text-align: right;\n",
       "    }\n",
       "</style>\n",
       "<table border=\"1\" class=\"dataframe\">\n",
       "  <thead>\n",
       "    <tr style=\"text-align: right;\">\n",
       "      <th></th>\n",
       "      <th>Year</th>\n",
       "      <th>Maximum length (m))</th>\n",
       "      <th>Recession(m),</th>\n",
       "      <th>Rate/yr(m)</th>\n",
       "      <th>Snout altitude (m)</th>\n",
       "    </tr>\n",
       "  </thead>\n",
       "  <tbody>\n",
       "    <tr>\n",
       "      <th>0</th>\n",
       "      <td>1974</td>\n",
       "      <td>17875</td>\n",
       "      <td>59</td>\n",
       "      <td>36</td>\n",
       "      <td>3533</td>\n",
       "    </tr>\n",
       "    <tr>\n",
       "      <th>1</th>\n",
       "      <td>1974</td>\n",
       "      <td>17111</td>\n",
       "      <td>86</td>\n",
       "      <td>21</td>\n",
       "      <td>3510</td>\n",
       "    </tr>\n",
       "    <tr>\n",
       "      <th>2</th>\n",
       "      <td>1974</td>\n",
       "      <td>17636</td>\n",
       "      <td>212</td>\n",
       "      <td>42</td>\n",
       "      <td>3504</td>\n",
       "    </tr>\n",
       "    <tr>\n",
       "      <th>3</th>\n",
       "      <td>1974</td>\n",
       "      <td>17457</td>\n",
       "      <td>20</td>\n",
       "      <td>19</td>\n",
       "      <td>3527</td>\n",
       "    </tr>\n",
       "    <tr>\n",
       "      <th>4</th>\n",
       "      <td>1974</td>\n",
       "      <td>17708</td>\n",
       "      <td>376</td>\n",
       "      <td>24</td>\n",
       "      <td>3518</td>\n",
       "    </tr>\n",
       "    <tr>\n",
       "      <th>...</th>\n",
       "      <td>...</td>\n",
       "      <td>...</td>\n",
       "      <td>...</td>\n",
       "      <td>...</td>\n",
       "      <td>...</td>\n",
       "    </tr>\n",
       "    <tr>\n",
       "      <th>1787</th>\n",
       "      <td>1974</td>\n",
       "      <td>17677</td>\n",
       "      <td>233</td>\n",
       "      <td>21</td>\n",
       "      <td>3512</td>\n",
       "    </tr>\n",
       "    <tr>\n",
       "      <th>1788</th>\n",
       "      <td>1974</td>\n",
       "      <td>17805</td>\n",
       "      <td>21</td>\n",
       "      <td>28</td>\n",
       "      <td>3562</td>\n",
       "    </tr>\n",
       "    <tr>\n",
       "      <th>1789</th>\n",
       "      <td>1974</td>\n",
       "      <td>17733</td>\n",
       "      <td>258</td>\n",
       "      <td>17</td>\n",
       "      <td>3522</td>\n",
       "    </tr>\n",
       "    <tr>\n",
       "      <th>1790</th>\n",
       "      <td>1974</td>\n",
       "      <td>17363</td>\n",
       "      <td>106</td>\n",
       "      <td>27</td>\n",
       "      <td>3503</td>\n",
       "    </tr>\n",
       "    <tr>\n",
       "      <th>1791</th>\n",
       "      <td>1974</td>\n",
       "      <td>17270</td>\n",
       "      <td>268</td>\n",
       "      <td>20</td>\n",
       "      <td>3522</td>\n",
       "    </tr>\n",
       "  </tbody>\n",
       "</table>\n",
       "<p>1792 rows × 5 columns</p>\n",
       "</div>"
      ],
      "text/plain": [
       "      Year  Maximum length (m))  Recession(m),  Rate/yr(m)  Snout altitude (m)\n",
       "0     1974                17875             59          36                3533\n",
       "1     1974                17111             86          21                3510\n",
       "2     1974                17636            212          42                3504\n",
       "3     1974                17457             20          19                3527\n",
       "4     1974                17708            376          24                3518\n",
       "...    ...                  ...            ...         ...                 ...\n",
       "1787  1974                17677            233          21                3512\n",
       "1788  1974                17805             21          28                3562\n",
       "1789  1974                17733            258          17                3522\n",
       "1790  1974                17363            106          27                3503\n",
       "1791  1974                17270            268          20                3522\n",
       "\n",
       "[1792 rows x 5 columns]"
      ]
     },
     "execution_count": 5,
     "metadata": {},
     "output_type": "execute_result"
    }
   ],
   "source": [
    "df"
   ]
  },
  {
   "cell_type": "code",
   "execution_count": 6,
   "id": "30f48eac",
   "metadata": {},
   "outputs": [
    {
     "name": "stdout",
     "output_type": "stream",
     "text": [
      "Shape of dataframe df: (1792, 5)\n"
     ]
    }
   ],
   "source": [
    "print(\"Shape of dataframe df: {}\".format(df.shape))"
   ]
  },
  {
   "cell_type": "code",
   "execution_count": 7,
   "id": "fa22c499",
   "metadata": {},
   "outputs": [
    {
     "name": "stdout",
     "output_type": "stream",
     "text": [
      "<class 'pandas.core.frame.DataFrame'>\n",
      "RangeIndex: 1792 entries, 0 to 1791\n",
      "Data columns (total 5 columns):\n",
      " #   Column               Non-Null Count  Dtype\n",
      "---  ------               --------------  -----\n",
      " 0   Year                 1792 non-null   int64\n",
      " 1   Maximum length (m))  1792 non-null   int64\n",
      " 2   Recession(m),        1792 non-null   int64\n",
      " 3   Rate/yr(m)           1792 non-null   int64\n",
      " 4   Snout altitude (m)   1792 non-null   int64\n",
      "dtypes: int64(5)\n",
      "memory usage: 70.1 KB\n"
     ]
    }
   ],
   "source": [
    "df.info()"
   ]
  },
  {
   "cell_type": "code",
   "execution_count": 8,
   "id": "9fcdd58e",
   "metadata": {},
   "outputs": [
    {
     "name": "stdout",
     "output_type": "stream",
     "text": [
      "There are 0 categorical variables\n"
     ]
    }
   ],
   "source": [
    "categorical = [col for col in df.columns if df[col].dtype=='O']\n",
    "print('There are {} categorical variables'.format(len(categorical)))"
   ]
  },
  {
   "cell_type": "code",
   "execution_count": 9,
   "id": "45d2b353",
   "metadata": {},
   "outputs": [
    {
     "name": "stdout",
     "output_type": "stream",
     "text": [
      "Number of unique Model Names:  72\n",
      "Number  of instances of models:  1792\n"
     ]
    }
   ],
   "source": [
    "print('Number of unique Model Names: ', len(df['Snout altitude (m)'].unique()))\n",
    "print('Number  of instances of models: ', len(df))"
   ]
  },
  {
   "cell_type": "code",
   "execution_count": 10,
   "id": "c0b544db",
   "metadata": {},
   "outputs": [
    {
     "name": "stdout",
     "output_type": "stream",
     "text": [
      "There are 5 numerical variables\n"
     ]
    }
   ],
   "source": [
    "numerical = [col for col in df.columns if df[col].dtype!='O']\n",
    "print('There are {} numerical variables'.format(len(numerical)))"
   ]
  },
  {
   "cell_type": "code",
   "execution_count": 12,
   "id": "da1de0f0",
   "metadata": {},
   "outputs": [
    {
     "name": "stdout",
     "output_type": "stream",
     "text": [
      "['Year', 'Maximum length (m))', 'Recession(m),', 'Rate/yr(m)', 'Snout altitude (m)']\n"
     ]
    }
   ],
   "source": [
    "print(numerical)"
   ]
  },
  {
   "cell_type": "code",
   "execution_count": 13,
   "id": "462bafc7",
   "metadata": {},
   "outputs": [
    {
     "data": {
      "text/html": [
       "<div>\n",
       "<style scoped>\n",
       "    .dataframe tbody tr th:only-of-type {\n",
       "        vertical-align: middle;\n",
       "    }\n",
       "\n",
       "    .dataframe tbody tr th {\n",
       "        vertical-align: top;\n",
       "    }\n",
       "\n",
       "    .dataframe thead th {\n",
       "        text-align: right;\n",
       "    }\n",
       "</style>\n",
       "<table border=\"1\" class=\"dataframe\">\n",
       "  <thead>\n",
       "    <tr style=\"text-align: right;\">\n",
       "      <th></th>\n",
       "      <th>Year</th>\n",
       "      <th>Maximum length (m))</th>\n",
       "      <th>Recession(m),</th>\n",
       "      <th>Rate/yr(m)</th>\n",
       "      <th>Snout altitude (m)</th>\n",
       "    </tr>\n",
       "  </thead>\n",
       "  <tbody>\n",
       "    <tr>\n",
       "      <th>0</th>\n",
       "      <td>1974</td>\n",
       "      <td>17875</td>\n",
       "      <td>59</td>\n",
       "      <td>36</td>\n",
       "      <td>3533</td>\n",
       "    </tr>\n",
       "    <tr>\n",
       "      <th>1</th>\n",
       "      <td>1974</td>\n",
       "      <td>17111</td>\n",
       "      <td>86</td>\n",
       "      <td>21</td>\n",
       "      <td>3510</td>\n",
       "    </tr>\n",
       "    <tr>\n",
       "      <th>2</th>\n",
       "      <td>1974</td>\n",
       "      <td>17636</td>\n",
       "      <td>212</td>\n",
       "      <td>42</td>\n",
       "      <td>3504</td>\n",
       "    </tr>\n",
       "    <tr>\n",
       "      <th>3</th>\n",
       "      <td>1974</td>\n",
       "      <td>17457</td>\n",
       "      <td>20</td>\n",
       "      <td>19</td>\n",
       "      <td>3527</td>\n",
       "    </tr>\n",
       "    <tr>\n",
       "      <th>4</th>\n",
       "      <td>1974</td>\n",
       "      <td>17708</td>\n",
       "      <td>376</td>\n",
       "      <td>24</td>\n",
       "      <td>3518</td>\n",
       "    </tr>\n",
       "  </tbody>\n",
       "</table>\n",
       "</div>"
      ],
      "text/plain": [
       "   Year  Maximum length (m))  Recession(m),  Rate/yr(m)  Snout altitude (m)\n",
       "0  1974                17875             59          36                3533\n",
       "1  1974                17111             86          21                3510\n",
       "2  1974                17636            212          42                3504\n",
       "3  1974                17457             20          19                3527\n",
       "4  1974                17708            376          24                3518"
      ]
     },
     "execution_count": 13,
     "metadata": {},
     "output_type": "execute_result"
    }
   ],
   "source": [
    "df[numerical].head()"
   ]
  },
  {
   "cell_type": "code",
   "execution_count": 14,
   "id": "1a15d670",
   "metadata": {},
   "outputs": [
    {
     "data": {
      "text/html": [
       "<div>\n",
       "<style scoped>\n",
       "    .dataframe tbody tr th:only-of-type {\n",
       "        vertical-align: middle;\n",
       "    }\n",
       "\n",
       "    .dataframe tbody tr th {\n",
       "        vertical-align: top;\n",
       "    }\n",
       "\n",
       "    .dataframe thead th {\n",
       "        text-align: right;\n",
       "    }\n",
       "</style>\n",
       "<table border=\"1\" class=\"dataframe\">\n",
       "  <thead>\n",
       "    <tr style=\"text-align: right;\">\n",
       "      <th></th>\n",
       "      <th>Year</th>\n",
       "      <th>Maximum length (m))</th>\n",
       "      <th>Recession(m),</th>\n",
       "      <th>Rate/yr(m)</th>\n",
       "      <th>Snout altitude (m)</th>\n",
       "    </tr>\n",
       "  </thead>\n",
       "  <tbody>\n",
       "    <tr>\n",
       "      <th>Year</th>\n",
       "      <td>NaN</td>\n",
       "      <td>NaN</td>\n",
       "      <td>NaN</td>\n",
       "      <td>NaN</td>\n",
       "      <td>NaN</td>\n",
       "    </tr>\n",
       "    <tr>\n",
       "      <th>Maximum length (m))</th>\n",
       "      <td>NaN</td>\n",
       "      <td>1.0000</td>\n",
       "      <td>0.0046</td>\n",
       "      <td>0.0312</td>\n",
       "      <td>-0.0146</td>\n",
       "    </tr>\n",
       "    <tr>\n",
       "      <th>Recession(m),</th>\n",
       "      <td>NaN</td>\n",
       "      <td>0.0046</td>\n",
       "      <td>1.0000</td>\n",
       "      <td>0.0091</td>\n",
       "      <td>-0.0494</td>\n",
       "    </tr>\n",
       "    <tr>\n",
       "      <th>Rate/yr(m)</th>\n",
       "      <td>NaN</td>\n",
       "      <td>0.0312</td>\n",
       "      <td>0.0091</td>\n",
       "      <td>1.0000</td>\n",
       "      <td>-0.0098</td>\n",
       "    </tr>\n",
       "    <tr>\n",
       "      <th>Snout altitude (m)</th>\n",
       "      <td>NaN</td>\n",
       "      <td>-0.0146</td>\n",
       "      <td>-0.0494</td>\n",
       "      <td>-0.0098</td>\n",
       "      <td>1.0000</td>\n",
       "    </tr>\n",
       "  </tbody>\n",
       "</table>\n",
       "</div>"
      ],
      "text/plain": [
       "                     Year  Maximum length (m))  Recession(m),  Rate/yr(m)  \\\n",
       "Year                  NaN                  NaN            NaN         NaN   \n",
       "Maximum length (m))   NaN               1.0000         0.0046      0.0312   \n",
       "Recession(m),         NaN               0.0046         1.0000      0.0091   \n",
       "Rate/yr(m)            NaN               0.0312         0.0091      1.0000   \n",
       "Snout altitude (m)    NaN              -0.0146        -0.0494     -0.0098   \n",
       "\n",
       "                     Snout altitude (m)  \n",
       "Year                                NaN  \n",
       "Maximum length (m))             -0.0146  \n",
       "Recession(m),                   -0.0494  \n",
       "Rate/yr(m)                      -0.0098  \n",
       "Snout altitude (m)               1.0000  "
      ]
     },
     "execution_count": 14,
     "metadata": {},
     "output_type": "execute_result"
    }
   ],
   "source": [
    "pd.options.display.float_format = '{:,.4f}'.format\n",
    "corr_matrix = df.corr()\n",
    "corr_matrix"
   ]
  },
  {
   "cell_type": "code",
   "execution_count": 15,
   "id": "08a47521",
   "metadata": {},
   "outputs": [
    {
     "data": {
      "text/plain": [
       "Maximum length (m))    1.0000\n",
       "Rate/yr(m)             0.0312\n",
       "Recession(m),          0.0046\n",
       "Snout altitude (m)    -0.0146\n",
       "Year                      NaN\n",
       "Name: Maximum length (m)), dtype: float64"
      ]
     },
     "execution_count": 15,
     "metadata": {},
     "output_type": "execute_result"
    }
   ],
   "source": [
    "corr_matrix['Maximum length (m))'].sort_values(ascending=False)"
   ]
  },
  {
   "cell_type": "code",
   "execution_count": 16,
   "id": "8ab92b4c",
   "metadata": {},
   "outputs": [
    {
     "data": {
      "image/png": "[encoded data removed]",
      "text/plain": [
       "<Figure size 1600x1000 with 2 Axes>"
      ]
     },
     "metadata": {},
     "output_type": "display_data"
    }
   ],
   "source": [
    "plt.figure(figsize=(16,10))\n",
    "plt.title('Correlation of Attributes with Maximum length (m)) ')\n",
    "a = sns.heatmap(corr_matrix, square=True, annot=True, fmt='.2f', linecolor='white')\n",
    "a.set_xticklabels(a.get_xticklabels(), rotation=90)\n",
    "a.set_yticklabels(a.get_yticklabels(), rotation=30)           \n",
    "plt.show()"
   ]
  },
  {
   "cell_type": "code",
   "execution_count": 17,
   "id": "a1e50c72",
   "metadata": {},
   "outputs": [
    {
     "data": {
      "text/plain": [
       "Year                   0\n",
       "Maximum length (m))    0\n",
       "Recession(m),          0\n",
       "Rate/yr(m)             0\n",
       "Snout altitude (m)     0\n",
       "dtype: int64"
      ]
     },
     "execution_count": 17,
     "metadata": {},
     "output_type": "execute_result"
    }
   ],
   "source": [
    "df.isnull().sum()"
   ]
  },
  {
   "cell_type": "code",
   "execution_count": 18,
   "id": "322bffd7",
   "metadata": {},
   "outputs": [
    {
     "data": {
      "text/html": [
       "<div>\n",
       "<style scoped>\n",
       "    .dataframe tbody tr th:only-of-type {\n",
       "        vertical-align: middle;\n",
       "    }\n",
       "\n",
       "    .dataframe tbody tr th {\n",
       "        vertical-align: top;\n",
       "    }\n",
       "\n",
       "    .dataframe thead th {\n",
       "        text-align: right;\n",
       "    }\n",
       "</style>\n",
       "<table border=\"1\" class=\"dataframe\">\n",
       "  <thead>\n",
       "    <tr style=\"text-align: right;\">\n",
       "      <th></th>\n",
       "      <th>Year</th>\n",
       "      <th>Maximum length (m))</th>\n",
       "      <th>Recession(m),</th>\n",
       "      <th>Rate/yr(m)</th>\n",
       "      <th>Snout altitude (m)</th>\n",
       "    </tr>\n",
       "  </thead>\n",
       "  <tbody>\n",
       "    <tr>\n",
       "      <th>count</th>\n",
       "      <td>1,792.0000</td>\n",
       "      <td>1,792.0000</td>\n",
       "      <td>1,792.0000</td>\n",
       "      <td>1,792.0000</td>\n",
       "      <td>1,792.0000</td>\n",
       "    </tr>\n",
       "    <tr>\n",
       "      <th>mean</th>\n",
       "      <td>1,974.0000</td>\n",
       "      <td>17,558.2271</td>\n",
       "      <td>217.4548</td>\n",
       "      <td>27.5223</td>\n",
       "      <td>3,532.3962</td>\n",
       "    </tr>\n",
       "    <tr>\n",
       "      <th>std</th>\n",
       "      <td>0.0000</td>\n",
       "      <td>297.4779</td>\n",
       "      <td>127.1777</td>\n",
       "      <td>8.5273</td>\n",
       "      <td>20.4674</td>\n",
       "    </tr>\n",
       "    <tr>\n",
       "      <th>min</th>\n",
       "      <td>1,974.0000</td>\n",
       "      <td>17,035.0000</td>\n",
       "      <td>0.0000</td>\n",
       "      <td>13.0000</td>\n",
       "      <td>3,496.0000</td>\n",
       "    </tr>\n",
       "    <tr>\n",
       "      <th>25%</th>\n",
       "      <td>1,974.0000</td>\n",
       "      <td>17,298.7500</td>\n",
       "      <td>108.7500</td>\n",
       "      <td>20.0000</td>\n",
       "      <td>3,515.0000</td>\n",
       "    </tr>\n",
       "    <tr>\n",
       "      <th>50%</th>\n",
       "      <td>1,974.0000</td>\n",
       "      <td>17,563.0000</td>\n",
       "      <td>213.0000</td>\n",
       "      <td>28.0000</td>\n",
       "      <td>3,533.0000</td>\n",
       "    </tr>\n",
       "    <tr>\n",
       "      <th>75%</th>\n",
       "      <td>1,974.0000</td>\n",
       "      <td>17,817.0000</td>\n",
       "      <td>326.2500</td>\n",
       "      <td>35.0000</td>\n",
       "      <td>3,550.0000</td>\n",
       "    </tr>\n",
       "    <tr>\n",
       "      <th>max</th>\n",
       "      <td>1,974.0000</td>\n",
       "      <td>18,067.0000</td>\n",
       "      <td>440.0000</td>\n",
       "      <td>42.0000</td>\n",
       "      <td>3,567.0000</td>\n",
       "    </tr>\n",
       "  </tbody>\n",
       "</table>\n",
       "</div>"
      ],
      "text/plain": [
       "            Year  Maximum length (m))  Recession(m),  Rate/yr(m)  \\\n",
       "count 1,792.0000           1,792.0000     1,792.0000  1,792.0000   \n",
       "mean  1,974.0000          17,558.2271       217.4548     27.5223   \n",
       "std       0.0000             297.4779       127.1777      8.5273   \n",
       "min   1,974.0000          17,035.0000         0.0000     13.0000   \n",
       "25%   1,974.0000          17,298.7500       108.7500     20.0000   \n",
       "50%   1,974.0000          17,563.0000       213.0000     28.0000   \n",
       "75%   1,974.0000          17,817.0000       326.2500     35.0000   \n",
       "max   1,974.0000          18,067.0000       440.0000     42.0000   \n",
       "\n",
       "       Snout altitude (m)  \n",
       "count          1,792.0000  \n",
       "mean           3,532.3962  \n",
       "std               20.4674  \n",
       "min            3,496.0000  \n",
       "25%            3,515.0000  \n",
       "50%            3,533.0000  \n",
       "75%            3,550.0000  \n",
       "max            3,567.0000  "
      ]
     },
     "execution_count": 18,
     "metadata": {},
     "output_type": "execute_result"
    }
   ],
   "source": [
    "df.describe()"
   ]
  },
  {
   "cell_type": "code",
   "execution_count": 19,
   "id": "f6e962dc",
   "metadata": {},
   "outputs": [
    {
     "name": "stdout",
     "output_type": "stream",
     "text": [
      "1974   1.0000\n",
      "Name: Year, dtype: float64\n",
      "\n",
      "40    0.0067\n",
      "145   0.0061\n",
      "176   0.0061\n",
      "206   0.0056\n",
      "242   0.0056\n",
      "       ...  \n",
      "305   0.0006\n",
      "147   0.0006\n",
      "416   0.0006\n",
      "358   0.0006\n",
      "151   0.0006\n",
      "Name: Recession(m),, Length: 432, dtype: float64\n",
      "\n",
      "21   0.0402\n",
      "19   0.0396\n",
      "32   0.0385\n",
      "22   0.0379\n",
      "20   0.0374\n",
      "31   0.0374\n",
      "23   0.0368\n",
      "29   0.0368\n",
      "36   0.0363\n",
      "30   0.0363\n",
      "40   0.0357\n",
      "41   0.0346\n",
      "17   0.0346\n",
      "24   0.0346\n",
      "33   0.0335\n",
      "35   0.0335\n",
      "42   0.0329\n",
      "26   0.0324\n",
      "14   0.0318\n",
      "28   0.0318\n",
      "39   0.0318\n",
      "25   0.0312\n",
      "16   0.0301\n",
      "37   0.0296\n",
      "13   0.0290\n",
      "15   0.0285\n",
      "27   0.0285\n",
      "38   0.0285\n",
      "18   0.0262\n",
      "34   0.0240\n",
      "Name: Rate/yr(m), dtype: float64\n",
      "\n",
      "3521   0.0212\n",
      "3558   0.0206\n",
      "3542   0.0190\n",
      "3543   0.0190\n",
      "3513   0.0184\n",
      "        ...  \n",
      "3528   0.0089\n",
      "3522   0.0089\n",
      "3555   0.0084\n",
      "3539   0.0078\n",
      "3496   0.0028\n",
      "Name: Snout altitude (m), Length: 72, dtype: float64\n",
      "\n"
     ]
    }
   ],
   "source": [
    "for var in ['Year','Recession(m),','Rate/yr(m)','Snout altitude (m)']:\n",
    "    print(df[var].value_counts() / np.float(len(df)))\n",
    "    print()"
   ]
  },
  {
   "cell_type": "code",
   "execution_count": null,
   "id": "61b8d6d8",
   "metadata": {},
   "outputs": [
    {
     "data": {
      "image/png": "[encoded data removed]",
      "text/plain": [
       "<Figure size 1600x1000 with 1 Axes>"
      ]
     },
     "metadata": {},
     "output_type": "display_data"
    }
   ],
   "source": [
    "for var in ['Year','Recession(m),','Rate/yr(m)','Snout altitude (m)']:\n",
    "    plt.figure(figsize=(16,10))\n",
    "    (df.groupby(var)[var].count() / np.float(len(df))).plot.bar()\n",
    "    plt.ylabel('Percentage of observations per label')\n",
    "    plt.title(var)\n",
    "    plt.show()"
   ]
  },
  {
   "cell_type": "code",
   "execution_count": null,
   "id": "678fc65a",
   "metadata": {},
   "outputs": [],
   "source": []
  }
 ],
 "metadata": {
  "kernelspec": {
   "display_name": "Python 3 (ipykernel)",
   "language": "python",
   "name": "python3"
  },
  "language_info": {
   "codemirror_mode": {
    "name": "ipython",
    "version": 3
   },
   "file_extension": ".py",
   "mimetype": "text/x-python",
   "name": "python",
   "nbconvert_exporter": "python",
   "pygments_lexer": "ipython3",
   "version": "3.10.9"
  }
 },
 "nbformat": 4,
 "nbformat_minor": 5
}
